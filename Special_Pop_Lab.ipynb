{
  "nbformat": 4,
  "nbformat_minor": 0,
  "metadata": {
    "colab": {
      "provenance": [],
      "authorship_tag": "ABX9TyNzUTkAVbJQLMs8vqGJreXW",
      "include_colab_link": true
    },
    "kernelspec": {
      "name": "python3",
      "display_name": "Python 3"
    },
    "language_info": {
      "name": "python"
    }
  },
  "cells": [
    {
      "cell_type": "markdown",
      "metadata": {
        "id": "view-in-github",
        "colab_type": "text"
      },
      "source": [
        "<a href=\"https://colab.research.google.com/github/qjy9ey/qjy9ey/blob/main/Special_Pop_Lab.ipynb\" target=\"_parent\"><img src=\"https://colab.research.google.com/assets/colab-badge.svg\" alt=\"Open In Colab\"/></a>"
      ]
    },
    {
      "cell_type": "code",
      "source": [
        "import json\n",
        "import pandas as pd\n",
        "import json\n",
        "import requests"
      ],
      "metadata": {
        "id": "4NhcE-JH2ZPR"
      },
      "execution_count": 9,
      "outputs": []
    },
    {
      "cell_type": "code",
      "execution_count": 18,
      "metadata": {
        "colab": {
          "base_uri": "https://localhost:8080/"
        },
        "id": "vrF-ZzBhzkI5",
        "outputId": "121240bc-a0d8-49ee-907d-cbe2300f17e2"
      },
      "outputs": [
        {
          "output_type": "stream",
          "name": "stdout",
          "text": [
            "N350XX: Cairo International Airport , Frankfurt International Airport\n",
            "N621MM: Cairo International Airport , Frankfurt International Airport\n"
          ]
        }
      ],
      "source": [
        "import requests\n",
        "\n",
        "api_key = \"\"\n",
        "\n",
        "for plane in [\"N350XX\", \"N621MM\"]:  # Tom Cruise and Taylor Swift's planes\n",
        "    r = requests.get(f\"http://api.aviationstack.com/v1/flights?access_key={api_key}&reg_number={plane}\")\n",
        "    d = r.json().get(\"data\", [{}])[0]  # Get most recent flight.\n",
        "    print(f\"{plane}: {d.get('departure').get('airport')} , {d.get('arrival').get('airport')}\")"
      ]
    }
  ]
}