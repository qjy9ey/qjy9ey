{
  "cells": [
    {
      "cell_type": "markdown",
      "metadata": {
        "id": "view-in-github",
        "colab_type": "text"
      },
      "source": [
        "<a href=\"https://colab.research.google.com/github/qjy9ey/qjy9ey/blob/main/python/superhero_assignment.ipynb\" target=\"_parent\"><img src=\"https://colab.research.google.com/assets/colab-badge.svg\" alt=\"Open In Colab\"/></a>"
      ]
    },
    {
      "cell_type": "markdown",
      "id": "5fa8dcf6",
      "metadata": {
        "id": "5fa8dcf6"
      },
      "source": [
        "# Superhero Database Assignment (SQLite & Google Colab)\n",
        "\n",
        "## Objective\n",
        "In this assignment, you will design and implement a **Superhero Database** using SQLite in Google Colab. This database will store superheroes, villains, and their battles. You will write SQL queries to analyze battle outcomes and relationships between heroes and villains.\n",
        "\n",
        "### Group Size:\n",
        "- 2 to 3 students per group.\n",
        "\n",
        "### Tools Required:\n",
        "- **Google Colab**\n",
        "- **SQLite (built into Python)**\n",
        "- **CSV files (provided for import)**"
      ]
    },
    {
      "cell_type": "markdown",
      "id": "5535e625",
      "metadata": {
        "id": "5535e625"
      },
      "source": [
        "## Step 1: Setting Up Your SQLite Database\n",
        "\n",
        "### Tasks:\n",
        "1. Initialize SQLite in Google Colab.\n",
        "2. Create a database named `superhero_db.sqlite`.\n",
        "3. Define the database schema, ensuring it includes the following tables:\n",
        "   - `heroes`: Stores superhero names, powers, and teams.\n",
        "   - `villains`: Stores villains and their evil plans.\n",
        "   - `battles`: Tracks battles between heroes and villains, including the outcome.\n",
        "4. Implement primary keys and foreign keys where appropriate.\n",
        "\n",
        "✅ **Checkpoint:** Ensure that the database and tables have been successfully created."
      ]
    },
    {
      "cell_type": "code",
      "source": [
        "import sqlite3\n",
        "\n",
        "# Creates database.\n",
        "connection = sqlite3.connect('superhero_db.sqlite')\n",
        "\n",
        "print(\"Database created and connected!\")\n",
        "\n",
        "cursor = connection.cursor()\n",
        "\n",
        "print(\"Cursor created!\")\n",
        "\n",
        "# Creates heroes table.\n",
        "cursor.execute('''\n",
        "CREATE TABLE IF NOT EXISTS heroes (\n",
        "    id INTEGER PRIMARY KEY AUTOINCREMENT,\n",
        "    name TEXT NOT NULL,\n",
        "    power TEXT NOT NULL,\n",
        "    team TEXT NOT NULL\n",
        ")\n",
        "''')\n",
        "\n",
        "print(\"Heroes table created!\")\n",
        "\n",
        "# Creates villains table.\n",
        "cursor.execute('''\n",
        "CREATE TABLE IF NOT EXISTS villains (\n",
        "    id INTEGER PRIMARY KEY AUTOINCREMENT,\n",
        "    name TEXT NOT NULL,\n",
        "    evil_plan TEXT NOT NULL\n",
        ")\n",
        "''')\n",
        "\n",
        "print(\"Villains table created!\")\n",
        "\n",
        "# Creates battles table.\n",
        "cursor.execute('''\n",
        "CREATE TABLE IF NOT EXISTS battles (\n",
        "    id INTEGER PRIMARY KEY AUTOINCREMENT,\n",
        "    hero_id INTEGER,\n",
        "    villian_id INTEGER,\n",
        "    outcome TEXT NOT NULL\n",
        ")\n",
        "''')\n",
        "\n",
        "print(\"Battles table created!\")"
      ],
      "metadata": {
        "id": "P9zd-pDLutQN"
      },
      "id": "P9zd-pDLutQN",
      "execution_count": null,
      "outputs": []
    },
    {
      "cell_type": "markdown",
      "id": "154b3c3a",
      "metadata": {
        "id": "154b3c3a"
      },
      "source": [
        "## Step 2: Import Data from CSV Files\n",
        "\n",
        "### Tasks:\n",
        "1. Download the provided CSV files.\n",
        "2. Upload them to Google Colab.\n",
        "3. Write a script to import data from these files into the appropriate tables.\n",
        "4. Verify that the data has been successfully inserted.\n",
        "\n",
        "✅ **Checkpoint:** Ensure that each table contains the expected data from the CSV files."
      ]
    },
    {
      "cell_type": "code",
      "source": [
        "import pandas as pd\n",
        "\n",
        "# Reads the data fom the heroes.csv file.\n",
        "df_heroes = pd.read_csv('heroes.csv')\n",
        "\n",
        "print(df_heroes.head())\n",
        "\n",
        "# Puts data into heroes database.\n",
        "df_heroes.to_sql('heroes', connection, if_exists='replace', index=False)\n",
        "\n",
        "print(\"Data from CSV has been inserted into the heroes table.\")\n",
        "\n",
        "cursor.execute(\"SELECT * FROM heroes\")\n",
        "rows = cursor.fetchall()\n",
        "\n",
        "print(\"Heroes data:\")\n",
        "for row in rows:\n",
        "    print(row)\n",
        "\n",
        "# Reads data from the villains.csv file.\n",
        "df_villains = pd.read_csv('villains.csv')\n",
        "\n",
        "df_villains.to_sql('villains', connection, if_exists='replace', index=False)\n",
        "\n",
        "print(\"Data from CSV has been inserted into the villains table.\")\n",
        "\n",
        "cursor.execute(\"SELECT * FROM villains\")\n",
        "rows = cursor.fetchall()\n",
        "\n",
        "print(\"Villains data:\")\n",
        "for row in rows:\n",
        "    print(row)\n",
        "\n",
        "# Reads data from the battles.csv file.\n",
        "df_battles = pd.read_csv('battles.csv')\n",
        "\n",
        "df_battles.to_sql('battles', connection, if_exists='replace', index=False)\n",
        "\n",
        "print(\"Data from CSV has been inserted into the battles table.\")\n",
        "\n",
        "cursor.execute(\"SELECT * FROM battles\")\n",
        "rows = cursor.fetchall()\n",
        "\n",
        "print(\"Battles data:\")\n",
        "for row in rows:\n",
        "    print(row)"
      ],
      "metadata": {
        "id": "2oCb_d-GwqYX"
      },
      "id": "2oCb_d-GwqYX",
      "execution_count": null,
      "outputs": []
    },
    {
      "cell_type": "markdown",
      "source": [],
      "metadata": {
        "id": "LgTwq1p37JHm"
      },
      "id": "LgTwq1p37JHm"
    },
    {
      "cell_type": "markdown",
      "id": "33548d9f",
      "metadata": {
        "id": "33548d9f"
      },
      "source": [
        "## Step 3: Querying the Database\n",
        "\n",
        "### Tasks:\n",
        "Write SQL queries to answer the following:\n",
        "1. Retrieve all superheroes and their powers.\n",
        "2. Find all battles where the hero won.\n",
        "3. List all villains and their evil plans.\n",
        "4. Determine which superhero has fought the most battles.\n",
        "\n",
        "✅ **Checkpoint:** Ensure that all queries return meaningful results from the database."
      ]
    },
    {
      "cell_type": "code",
      "source": [
        "print(\"Retrieve all superheroes and their powers.\")\n",
        "\n",
        "# Retrieves the superhero name and power from the heroes database.\n",
        "cursor.execute(\"SELECT name, power FROM heroes\")\n",
        "\n",
        "# Fetchall retrieves all the data.\n",
        "results = cursor.fetchall()\n",
        "\n",
        "for row in results:\n",
        "  print(row)\n",
        "\n",
        "print(\"Find all battles where the hero won.\")\n",
        "cursor.execute(\"SELET id, outcome FROM battles WHERE outcome = 'Hero Wins'\")\n",
        "\n",
        "# Only pulls the id when the outcome is that the Hero Wins.\n",
        "results = cursor.fetchall()\n",
        "\n",
        "for row in results:\n",
        "  print(row)\n",
        "\n",
        "print(\"List all villians and their evil plans.\")\n",
        "\n",
        "# Retrieves name and evil plans from villains database.\n",
        "cursor.execute(\"SELECT name, evil_plan FROM villains\")\n",
        "results = cursor.fetchall()\n",
        "\n",
        "for row in results:\n",
        "  print(row)\n",
        "\n",
        "# Determine which superhero has fought the most battles.\n",
        "print(\"Determine which superhero has fought the most battles.\")\n",
        "cursor.execute(\"\"\"\n",
        "  SELECT heroes.name, COUNT(battles.hero_id) AS battle_count\n",
        "  FROM battles\n",
        "  JOIN heroes ON battles.hero_id = heroes.id\n",
        "  GROUP BY battles.hero_id\n",
        "  ORDER BY battle_count DESC\n",
        "  LIMIT 1\n",
        "\"\"\")\n",
        "\n",
        "# Fetches the first one which would be the hero with the most battles.\n",
        "if result:\n",
        "  print(f\"Superhero with the most battles: {result[0]}, Battles fought:\n",
        "  {result[1]}\")\n",
        "else:\n",
        "        print(\"No battles found in the database.\")"
      ],
      "metadata": {
        "id": "jHOdJowQxUl7"
      },
      "id": "jHOdJowQxUl7",
      "execution_count": null,
      "outputs": []
    },
    {
      "cell_type": "markdown",
      "id": "de8bda94",
      "metadata": {
        "id": "de8bda94"
      },
      "source": [
        "## Step 4: Add a Custom Feature\n",
        "\n",
        "### Tasks:\n",
        "1. Design and implement an additional table related to superheroes or villains.\n",
        "2. Populate it with data.\n",
        "3. Write at least one query to retrieve meaningful insights from the new table.\n",
        "\n",
        "**Examples of Custom Features:**\n",
        "- Sidekicks for superheroes\n",
        "- Villain hideouts\n",
        "- Battle locations\n",
        "- Superhero equipment\n",
        "\n",
        "✅ **Checkpoint:** Ensure that the new table and queries function correctly."
      ]
    },
    {
      "cell_type": "code",
      "source": [
        "# Create the sidekicks table that includes name of the sidekick, which superhero they are the sidekick of, and their powers.\n",
        "connection.execute('''\n",
        "CREATE TABLE IF NOT EXISTS sidekicks(\n",
        "  id INTEGER PRIMARY KEY AUTOINCREMENT\n",
        "  name TEXT NOT NULL,\n",
        "  hero_id INTEGER NOT NULL,\n",
        "  power TEXT,\n",
        "  FOREIGN KEY(hero_id) REFERENCES heroes(id)\n",
        ")\n",
        "''')\n",
        "\n",
        "print(\"Sidekicks table created!\")\n",
        "\n",
        "# Insert sample data into the sidekicks table.\n",
        "sidekick_data = [\n",
        "    ('Ned', 1, 'Tech Support'),\n",
        "    ('War Machine', 2, 'Armored Suit'),\n",
        "    ('Robin', 3, 'Martial Arts'),\n",
        "    ('Jimmy Olsen', 4, 'Friend'),\n",
        "    ('Miek', 5, 'N/A'),\n",
        "    ('Cassie Sandsmark', 6, 'Wonder Girl'),\n",
        "    ('Shuri', 7, 'Gadgets'),\n",
        "    ('Wally West', 8, 'Kid Flash'),\n",
        "    ('Rick Jones', 9, 'A-Bomb'),\n",
        "    ('Wong', 10, 'Sorceror')\n",
        "]\n",
        "\n",
        "# Insert the data into the database.\n",
        "cursor.executemany('''\n",
        "INSERT INTO sidekicks (name, hero_id, power)\n",
        "VALUES (?, ?, ?)\n",
        "''', sidekick_data)\n",
        "\n",
        "connection.commit()\n",
        "print(\"Sample sidekicks inserted!\")\n",
        "\n",
        "# Find all superheroes along with their sidekicks and their powers.\n",
        "query_hero_sidekicks = '''\n",
        "SELECT heroes.name AS hero_name, sidekicks.name AS sidekick_name, sidekicks.power\n",
        "AS sidekick_power\n",
        "FROM sidekicks\n",
        "JOIN heroes ON sidekicks.hero_id = heroes.id\n",
        "ORDER BY heroes.name;\n",
        "'''\n",
        "\n",
        "df_hero_sidekicks = pd.read_sql_query(query_hero_sidekicks, connection)\n",
        "print(\"Superheroes and their sidekicks:\")\n",
        "print(df_hero_sidekicks)"
      ],
      "metadata": {
        "id": "dg3kDHb50Cbz"
      },
      "id": "dg3kDHb50Cbz",
      "execution_count": null,
      "outputs": []
    },
    {
      "cell_type": "markdown",
      "id": "9bf43fe6",
      "metadata": {
        "id": "9bf43fe6"
      },
      "source": [
        "## Bonus Challenge (+5 Points)\n",
        "\n",
        "### Tasks:\n",
        "1. Enhance your project by adding a visual or interactive component.\n",
        "\n",
        "**Options:**\n",
        "- Visualize battles using Matplotlib (e.g., a bar chart showing how many battles each superhero has fought).\n",
        "- Make it interactive (e.g., allow users to input a superhero name and display their battles).\n",
        "\n",
        "✅ **Checkpoint:** If attempting the bonus, ensure that your visualization or interactive component works correctly."
      ]
    },
    {
      "cell_type": "markdown",
      "id": "89f56c05",
      "metadata": {
        "id": "89f56c05"
      },
      "source": [
        "## Submission Guidelines\n",
        "\n",
        "Each group must submit a **Google Colab Notebook (.ipynb)** containing:\n",
        "- ✅ **Database schema (DDL)**\n",
        "- ✅ **CSV imports & data insertion (DML)**\n",
        "- ✅ **SQL queries & results**\n",
        "- ✅ **Custom feature (bonus if applicable)**"
      ]
    },
    {
      "cell_type": "code",
      "source": [
        "import pandas as pd\n",
        "\n",
        "# Import matplotlib to create a bar chart.\n",
        "import matplotlib.pyplot as plt\n",
        "\n",
        "# Count the number of battles per superhero.\n",
        "query_battles_count = '''\n",
        "SELECT heroes.name AS hero_name, COUNT(battles.id) AS battle_count FROM battles\n",
        "JOIN heroes ON battles.hero_id = heroes.id\n",
        "GROUP BY heroes.name\n",
        "'''\n",
        "\n",
        "# Load results into a dataframe.\n",
        "df_battles_count = pd.read_sql_query(query_battles_count, connection)\n",
        "\n",
        "# Plot the bar chart.\n",
        "plt.bar(df_battles_count['hero_name'], df_battles_count['battle_count'],color='blue')\n",
        "plt.title('Number of Battles per Superhero')\n",
        "plt.xlabel('Superhero')\n",
        "plt.ylabel('Battle Count')\n",
        "plt.xticks(rotation = 45)\n",
        "plt.show()"
      ],
      "metadata": {
        "id": "lgD3JH8J3T2i"
      },
      "id": "lgD3JH8J3T2i",
      "execution_count": null,
      "outputs": []
    },
    {
      "cell_type": "markdown",
      "id": "61477c9b",
      "metadata": {
        "id": "61477c9b"
      },
      "source": [
        "## Grading Criteria (Total: 25 Points)\n",
        "\n",
        "| Section                 | Points |\n",
        "|-------------------------|--------|\n",
        "| Database Setup          | 5      |\n",
        "| Data Importing         | 10     |\n",
        "| Querying the Data      | 10     |\n",
        "| Extra Feature          | 5      |\n",
        "| Bonus Challenge (Optional) | +5  |"
      ]
    },
    {
      "cell_type": "markdown",
      "id": "92bf6839",
      "metadata": {
        "id": "92bf6839"
      },
      "source": [
        "### Final Notes:\n",
        "- Be **creative** when designing superheroes and villains.\n",
        "- **Comment your code** to explain its functionality.\n",
        "- **Have fun** building your superhero universe!"
      ]
    }
  ],
  "metadata": {
    "colab": {
      "provenance": [],
      "include_colab_link": true
    },
    "language_info": {
      "name": "python"
    },
    "kernelspec": {
      "name": "python3",
      "display_name": "Python 3"
    }
  },
  "nbformat": 4,
  "nbformat_minor": 5
}