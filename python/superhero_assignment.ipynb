{
  "cells": [
    {
      "cell_type": "markdown",
      "metadata": {
        "id": "view-in-github",
        "colab_type": "text"
      },
      "source": [
        "<a href=\"https://colab.research.google.com/github/qjy9ey/qjy9ey/blob/main/python/superhero_assignment.ipynb\" target=\"_parent\"><img src=\"https://colab.research.google.com/assets/colab-badge.svg\" alt=\"Open In Colab\"/></a>"
      ]
    },
    {
      "cell_type": "markdown",
      "id": "5fa8dcf6",
      "metadata": {
        "id": "5fa8dcf6"
      },
      "source": [
        "# Superhero Database Assignment (SQLite & Google Colab)\n",
        "\n",
        "## Objective\n",
        "In this assignment, you will design and implement a **Superhero Database** using SQLite in Google Colab. This database will store superheroes, villains, and their battles. You will write SQL queries to analyze battle outcomes and relationships between heroes and villains.\n",
        "\n",
        "### Group Size:\n",
        "- 2 to 3 students per group.\n",
        "\n",
        "### Tools Required:\n",
        "- **Google Colab**\n",
        "- **SQLite (built into Python)**\n",
        "- **CSV files (provided for import)**"
      ]
    },
    {
      "cell_type": "markdown",
      "id": "5535e625",
      "metadata": {
        "id": "5535e625"
      },
      "source": [
        "## Step 1: Setting Up Your SQLite Database\n",
        "\n",
        "### Tasks:\n",
        "1. Initialize SQLite in Google Colab.\n",
        "2. Create a database named `superhero_db.sqlite`.\n",
        "3. Define the database schema, ensuring it includes the following tables:\n",
        "   - `heroes`: Stores superhero names, powers, and teams.\n",
        "   - `villains`: Stores villains and their evil plans.\n",
        "   - `battles`: Tracks battles between heroes and villains, including the outcome.\n",
        "4. Implement primary keys and foreign keys where appropriate.\n",
        "\n",
        "✅ **Checkpoint:** Ensure that the database and tables have been successfully created."
      ]
    },
    {
      "cell_type": "code",
      "source": [
        "import sqlite3\n",
        "\n",
        "# Creates database.\n",
        "connection = sqlite3.connect('superhero_db.sqlite')\n",
        "\n",
        "print(\"Database created and connected!\")\n",
        "\n",
        "cursor = connection.cursor()\n",
        "\n",
        "print(\"Cursor created!\")\n",
        "\n",
        "# Creates heroes table.\n",
        "cursor.execute('''\n",
        "CREATE TABLE IF NOT EXISTS heroes (\n",
        "    id INTEGER PRIMARY KEY AUTOINCREMENT,\n",
        "    name TEXT NOT NULL,\n",
        "    power TEXT NOT NULL,\n",
        "    team TEXT NOT NULL\n",
        ")\n",
        "''')\n",
        "\n",
        "print(\"Heroes table created!\")\n",
        "\n",
        "# Creates villains table.\n",
        "cursor.execute('''\n",
        "CREATE TABLE IF NOT EXISTS villains (\n",
        "    id INTEGER PRIMARY KEY AUTOINCREMENT,\n",
        "    name TEXT NOT NULL,\n",
        "    evil_plan TEXT NOT NULL\n",
        ")\n",
        "''')\n",
        "\n",
        "print(\"Villains table created!\")\n",
        "\n",
        "# Creates battles table.\n",
        "cursor.execute('''\n",
        "CREATE TABLE IF NOT EXISTS battles (\n",
        "    id INTEGER PRIMARY KEY AUTOINCREMENT,\n",
        "    hero_id INTEGER,\n",
        "    villian_id INTEGER,\n",
        "    outcome TEXT NOT NULL\n",
        ")\n",
        "''')\n",
        "\n",
        "print(\"Battles table created!\")"
      ],
      "metadata": {
        "colab": {
          "base_uri": "https://localhost:8080/"
        },
        "id": "P9zd-pDLutQN",
        "outputId": "bb35c673-a926-4eae-c1c3-abe7e71bf426"
      },
      "id": "P9zd-pDLutQN",
      "execution_count": 4,
      "outputs": [
        {
          "output_type": "stream",
          "name": "stdout",
          "text": [
            "Database created and connected!\n",
            "Cursor created!\n",
            "Heroes table created!\n",
            "Villains table created!\n",
            "Battles table created!\n"
          ]
        }
      ]
    },
    {
      "cell_type": "markdown",
      "id": "154b3c3a",
      "metadata": {
        "id": "154b3c3a"
      },
      "source": [
        "## Step 2: Import Data from CSV Files\n",
        "\n",
        "### Tasks:\n",
        "1. Download the provided CSV files.\n",
        "2. Upload them to Google Colab.\n",
        "3. Write a script to import data from these files into the appropriate tables.\n",
        "4. Verify that the data has been successfully inserted.\n",
        "\n",
        "✅ **Checkpoint:** Ensure that each table contains the expected data from the CSV files."
      ]
    },
    {
      "cell_type": "code",
      "source": [
        "import pandas as pd\n",
        "\n",
        "# Reads the data fom the heroes.csv file.\n",
        "df_heroes = pd.read_csv('heroes.csv')\n",
        "\n",
        "print(df_heroes.head())\n",
        "\n",
        "# Puts data into heroes database.\n",
        "df_heroes.to_sql('heroes', connection, if_exists='replace', index=False)\n",
        "\n",
        "print(\"Data from CSV has been inserted into the heroes table.\")\n",
        "\n",
        "cursor.execute(\"SELECT * FROM heroes\")\n",
        "rows = cursor.fetchall()\n",
        "\n",
        "print(\"Heroes data:\")\n",
        "for row in rows:\n",
        "    print(row)\n",
        "\n",
        "# Reads data from the villains.csv file.\n",
        "df_villains = pd.read_csv('villains.csv')\n",
        "\n",
        "df_villains.to_sql('villains', connection, if_exists='replace', index=False)\n",
        "\n",
        "print(\"Data from CSV has been inserted into the villains table.\")\n",
        "\n",
        "cursor.execute(\"SELECT * FROM villains\")\n",
        "rows = cursor.fetchall()\n",
        "\n",
        "print(\"Villains data:\")\n",
        "for row in rows:\n",
        "    print(row)\n",
        "\n",
        "# Reads data from the battles.csv file.\n",
        "df_battles = pd.read_csv('battles.csv')\n",
        "\n",
        "df_battles.to_sql('battles', connection, if_exists='replace', index=False)\n",
        "\n",
        "print(\"Data from CSV has been inserted into the battles table.\")\n",
        "\n",
        "cursor.execute(\"SELECT * FROM battles\")\n",
        "rows = cursor.fetchall()\n",
        "\n",
        "print(\"Battles data:\")\n",
        "for row in rows:\n",
        "    print(row)"
      ],
      "metadata": {
        "colab": {
          "base_uri": "https://localhost:8080/"
        },
        "id": "2oCb_d-GwqYX",
        "outputId": "059d529e-6d88-4f56-e6dc-f5bb8ef40dd2"
      },
      "id": "2oCb_d-GwqYX",
      "execution_count": 5,
      "outputs": [
        {
          "output_type": "stream",
          "name": "stdout",
          "text": [
            "   id        name             power            team\n",
            "0   1  Spider-Man      Web-slinging        Avengers\n",
            "1   2    Iron Man     Powered Armor        Avengers\n",
            "2   3      Batman  Genius Detective  Justice League\n",
            "3   4    Superman    Super Strength  Justice League\n",
            "4   5        Thor    God of Thunder        Avengers\n",
            "Data from CSV has been inserted into the heroes table.\n",
            "Heroes data:\n",
            "(1, 'Spider-Man', 'Web-slinging', 'Avengers')\n",
            "(2, 'Iron Man', 'Powered Armor', 'Avengers')\n",
            "(3, 'Batman', 'Genius Detective', 'Justice League')\n",
            "(4, 'Superman', 'Super Strength', 'Justice League')\n",
            "(5, 'Thor', 'God of Thunder', 'Avengers')\n",
            "(6, 'Wonder Woman', 'Amazonian Strength', 'Justice League')\n",
            "(7, 'Black Panther', 'Enhanced Agility', 'Avengers')\n",
            "(8, 'The Flash', 'Super Speed', 'Justice League')\n",
            "(9, 'Hulk', 'Super Strength', 'Avengers')\n",
            "(10, 'Doctor Strange', 'Mystic Arts', 'Avengers')\n",
            "Data from CSV has been inserted into the villains table.\n",
            "Villains data:\n",
            "(1, 'Green Goblin', 'Terrorize New York')\n",
            "(2, 'Thanos', 'Collect all Infinity Stones')\n",
            "(3, 'Joker', 'Spread chaos in Gotham')\n",
            "(4, 'Lex Luthor', 'Defeat Superman')\n",
            "(5, 'Loki', 'Trick humanity into worshiping him')\n",
            "(6, 'Ultron', 'AI world domination')\n",
            "(7, 'Darkseid', 'Control the universe')\n",
            "(8, 'Venom', 'Consume Spider-Man')\n",
            "(9, 'Magneto', 'Mutant supremacy')\n",
            "(10, 'Red Skull', 'Revive Hydra')\n",
            "Data from CSV has been inserted into the battles table.\n",
            "Battles data:\n",
            "(1, 1, 10, 'Villain Wins')\n",
            "(2, 9, 3, 'Hero Wins')\n",
            "(3, 8, 1, 'Draw')\n",
            "(4, 5, 4, 'Villain Wins')\n",
            "(5, 1, 7, 'Hero Wins')\n",
            "(6, 2, 8, 'Villain Wins')\n",
            "(7, 9, 8, 'Hero Wins')\n",
            "(8, 3, 2, 'Hero Wins')\n",
            "(9, 7, 5, 'Hero Wins')\n",
            "(10, 3, 1, 'Draw')\n",
            "(11, 1, 8, 'Villain Wins')\n",
            "(12, 2, 1, 'Draw')\n",
            "(13, 8, 9, 'Hero Wins')\n",
            "(14, 8, 1, 'Draw')\n",
            "(15, 6, 10, 'Draw')\n",
            "(16, 1, 1, 'Villain Wins')\n",
            "(17, 8, 3, 'Draw')\n",
            "(18, 6, 3, 'Villain Wins')\n",
            "(19, 4, 8, 'Villain Wins')\n",
            "(20, 3, 4, 'Hero Wins')\n",
            "(21, 8, 1, 'Draw')\n",
            "(22, 4, 9, 'Draw')\n",
            "(23, 3, 9, 'Draw')\n",
            "(24, 8, 9, 'Villain Wins')\n",
            "(25, 2, 5, 'Draw')\n",
            "(26, 3, 7, 'Draw')\n",
            "(27, 10, 3, 'Draw')\n",
            "(28, 3, 8, 'Draw')\n",
            "(29, 3, 5, 'Hero Wins')\n",
            "(30, 5, 5, 'Hero Wins')\n"
          ]
        }
      ]
    },
    {
      "cell_type": "markdown",
      "source": [],
      "metadata": {
        "id": "LgTwq1p37JHm"
      },
      "id": "LgTwq1p37JHm"
    },
    {
      "cell_type": "markdown",
      "id": "33548d9f",
      "metadata": {
        "id": "33548d9f"
      },
      "source": [
        "## Step 3: Querying the Database\n",
        "\n",
        "### Tasks:\n",
        "Write SQL queries to answer the following:\n",
        "1. Retrieve all superheroes and their powers.\n",
        "2. Find all battles where the hero won.\n",
        "3. List all villains and their evil plans.\n",
        "4. Determine which superhero has fought the most battles.\n",
        "\n",
        "✅ **Checkpoint:** Ensure that all queries return meaningful results from the database."
      ]
    },
    {
      "cell_type": "code",
      "source": [
        "print(\"1. Retrieve all superheroes and their powers\")\n",
        "\n",
        "# Retrieves the superhero name and power from the heroes database.\n",
        "cursor.execute(\"SELECT name, power FROM heroes\")\n",
        "results = cursor.fetchall()\n",
        "for row in results:\n",
        "    print(row)\n",
        "\n",
        "print(\"2. Find all battles where the hero won\")\n",
        "cursor.execute(\"SELECT id, outcome FROM battles WHERE outcome = 'Hero Wins'\")\n",
        "\n",
        "# Only pulls the id when the outcome is 'Hero Wins.'\n",
        "results = cursor.fetchall()\n",
        "for row in results:\n",
        "    print(row)\n",
        "\n",
        "print(\"3. List all villains and their evil plans\")\n",
        "cursor.execute(\"SELECT name, evil_plan FROM villains\")\n",
        "\n",
        "# Retrieves name and evil plans from villains database.\n",
        "results = cursor.fetchall()\n",
        "for row in results:\n",
        "   print(row)\n",
        "\n",
        "print(\"4. Determine which superhero has fought the most battles\")\n",
        "\n",
        "# Determines which superhero fought the most battles by counting the id.\n",
        "cursor.execute(\"\"\"\n",
        "    SELECT heroes.name, COUNT(battles.hero_id) AS battle_count\n",
        "    FROM battles\n",
        "    JOIN heroes ON battles.hero_id = heroes.id\n",
        "    GROUP BY battles.hero_id\n",
        "    ORDER BY battle_count DESC\n",
        "    LIMIT 1\n",
        "\"\"\")\n",
        "\n",
        "result = cursor.fetchone()\n",
        "if result:\n",
        "    print(f\"Superhero with the most battles: {result[0]}, Battles fought: {result[1]}\")\n",
        "else:\n",
        "    print(\"No battles found in the database.\")"
      ],
      "metadata": {
        "colab": {
          "base_uri": "https://localhost:8080/"
        },
        "id": "ZQVy4zYdbL5B",
        "outputId": "96ac8417-eedd-48d5-eac6-38e16ce50013"
      },
      "id": "ZQVy4zYdbL5B",
      "execution_count": 11,
      "outputs": [
        {
          "output_type": "stream",
          "name": "stdout",
          "text": [
            "1. Retrieve all superheroes and their powers\n",
            "('Spider-Man', 'Web-slinging')\n",
            "('Iron Man', 'Powered Armor')\n",
            "('Batman', 'Genius Detective')\n",
            "('Superman', 'Super Strength')\n",
            "('Thor', 'God of Thunder')\n",
            "('Wonder Woman', 'Amazonian Strength')\n",
            "('Black Panther', 'Enhanced Agility')\n",
            "('The Flash', 'Super Speed')\n",
            "('Hulk', 'Super Strength')\n",
            "('Doctor Strange', 'Mystic Arts')\n",
            "2. Find all battles where the hero won\n",
            "(2, 'Hero Wins')\n",
            "(5, 'Hero Wins')\n",
            "(7, 'Hero Wins')\n",
            "(8, 'Hero Wins')\n",
            "(9, 'Hero Wins')\n",
            "(13, 'Hero Wins')\n",
            "(20, 'Hero Wins')\n",
            "(29, 'Hero Wins')\n",
            "(30, 'Hero Wins')\n",
            "3. List all villains and their evil plans\n",
            "('Green Goblin', 'Terrorize New York')\n",
            "('Thanos', 'Collect all Infinity Stones')\n",
            "('Joker', 'Spread chaos in Gotham')\n",
            "('Lex Luthor', 'Defeat Superman')\n",
            "('Loki', 'Trick humanity into worshiping him')\n",
            "('Ultron', 'AI world domination')\n",
            "('Darkseid', 'Control the universe')\n",
            "('Venom', 'Consume Spider-Man')\n",
            "('Magneto', 'Mutant supremacy')\n",
            "('Red Skull', 'Revive Hydra')\n",
            "4. Determine which superhero has fought the most battles\n",
            "Superhero with the most battles: Batman, Battles fought: 7\n"
          ]
        }
      ]
    },
    {
      "cell_type": "markdown",
      "id": "de8bda94",
      "metadata": {
        "id": "de8bda94"
      },
      "source": [
        "## Step 4: Add a Custom Feature\n",
        "\n",
        "### Tasks:\n",
        "1. Design and implement an additional table related to superheroes or villains.\n",
        "2. Populate it with data.\n",
        "3. Write at least one query to retrieve meaningful insights from the new table.\n",
        "\n",
        "**Examples of Custom Features:**\n",
        "- Sidekicks for superheroes\n",
        "- Villain hideouts\n",
        "- Battle locations\n",
        "- Superhero equipment\n",
        "\n",
        "✅ **Checkpoint:** Ensure that the new table and queries function correctly."
      ]
    },
    {
      "cell_type": "code",
      "source": [
        "# Create the sidekicks table that includes name of sidekick, which superhero they are the sidekick of, and their powers.\n",
        "connection.execute('''\n",
        "CREATE TABLE IF NOT EXISTS sidekicks (\n",
        "    id INTEGER PRIMARY KEY AUTOINCREMENT,\n",
        "    name TEXT NOT NULL,\n",
        "    hero_id INTEGER NOT NULL,\n",
        "    power TEXT,\n",
        "    FOREIGN KEY(hero_id) REFERENCES heroes(id)\n",
        ")\n",
        "''')\n",
        "print(\"Sidekicks table created!\")\n",
        "\n",
        "# Insert sample data into the sidekicks table.\n",
        "sidekick_data = [\n",
        "    ('Ned', 1, 'Tech Support'),  # Spiderman has ID 3\n",
        "    ('War Machine', 2, 'Armored Suit'),  # Iron Man has ID 2\n",
        "    ('Robin', 3, 'Martial Arts'),  # Batman has ID 3\n",
        "    ('Jimmy Olsen', 4, 'Friend'),\n",
        "    ('Miek', 5, 'N/A'),\n",
        "    ('Cassie Sandsmark', 6, 'Wonder Girl'),\n",
        "    ('Shuri', 7, 'Gadgets'),\n",
        "    ('Wally West', 8, 'KidFlash'),\n",
        "    ('Rick Jones', 9, 'A-bomb'),\n",
        "    ('Wong', 10, 'Sorceror')\n",
        "\n",
        "]\n",
        "\n",
        "# Insert the data into the database.\n",
        "cursor.executemany('''\n",
        "INSERT INTO sidekicks (name, hero_id, power)\n",
        "VALUES (?, ?, ?)\n",
        "''', sidekick_data)\n",
        "\n",
        "connection.commit()\n",
        "print(\"Sample sidekicks inserted!\")\n",
        "\n",
        "#Query: Find all superheroes along with their sidekicks and their powers.\n",
        "query_hero_sidekicks = '''\n",
        "SELECT heroes.name AS hero_name, sidekicks.name AS sidekick_name, sidekicks.power AS sidekick_power\n",
        "FROM sidekicks\n",
        "JOIN heroes ON sidekicks.hero_id = heroes.id\n",
        "ORDER BY heroes.name;\n",
        "'''\n",
        "\n",
        "df_hero_sidekicks = pd.read_sql_query(query_hero_sidekicks, connection)\n",
        "print(\"Superheroes and Their Sidekicks:\")\n",
        "print(df_hero_sidekicks)"
      ],
      "metadata": {
        "colab": {
          "base_uri": "https://localhost:8080/"
        },
        "id": "dg3kDHb50Cbz",
        "outputId": "efbcce97-2900-498e-a111-cdd28b6a791b"
      },
      "id": "dg3kDHb50Cbz",
      "execution_count": 12,
      "outputs": [
        {
          "output_type": "stream",
          "name": "stdout",
          "text": [
            "Sidekicks table created!\n",
            "Sample sidekicks inserted!\n",
            "Superheroes and Their Sidekicks:\n",
            "        hero_name     sidekick_name sidekick_power\n",
            "0          Batman             Robin   Martial Arts\n",
            "1   Black Panther             Shuri        Gadgets\n",
            "2  Doctor Strange              Wong       Sorceror\n",
            "3            Hulk        Rick Jones         A-bomb\n",
            "4        Iron Man       War Machine   Armored Suit\n",
            "5      Spider-Man               Ned   Tech Support\n",
            "6        Superman       Jimmy Olsen         Friend\n",
            "7       The Flash        Wally West       KidFlash\n",
            "8            Thor              Miek            N/A\n",
            "9    Wonder Woman  Cassie Sandsmark    Wonder Girl\n"
          ]
        }
      ]
    },
    {
      "cell_type": "markdown",
      "id": "9bf43fe6",
      "metadata": {
        "id": "9bf43fe6"
      },
      "source": [
        "## Bonus Challenge (+5 Points)\n",
        "\n",
        "### Tasks:\n",
        "1. Enhance your project by adding a visual or interactive component.\n",
        "\n",
        "**Options:**\n",
        "- Visualize battles using Matplotlib (e.g., a bar chart showing how many battles each superhero has fought).\n",
        "- Make it interactive (e.g., allow users to input a superhero name and display their battles).\n",
        "\n",
        "✅ **Checkpoint:** If attempting the bonus, ensure that your visualization or interactive component works correctly."
      ]
    },
    {
      "cell_type": "markdown",
      "id": "89f56c05",
      "metadata": {
        "id": "89f56c05"
      },
      "source": [
        "## Submission Guidelines\n",
        "\n",
        "Each group must submit a **Google Colab Notebook (.ipynb)** containing:\n",
        "- ✅ **Database schema (DDL)**\n",
        "- ✅ **CSV imports & data insertion (DML)**\n",
        "- ✅ **SQL queries & results**\n",
        "- ✅ **Custom feature (bonus if applicable)**"
      ]
    },
    {
      "cell_type": "code",
      "source": [
        "import pandas as pd\n",
        "# Import matplotlib to create a bar chart.\n",
        "import matplotlib.pyplot as plt\n",
        "\n",
        "# Query to count the number of battles per superhero.\n",
        "query_battles_count = '''\n",
        "SELECT heroes.name AS hero_name, COUNT(battles.id) AS battle_count\n",
        "FROM battles\n",
        "JOIN heroes ON battles.hero_id = heroes.id\n",
        "GROUP BY heroes.name\n",
        "'''\n",
        "\n",
        "# Load query results into a dataframe.\n",
        "df_battles_count = pd.read_sql_query(query_battles_count, connection)\n",
        "\n",
        "# Plot the bar chart.\n",
        "plt.bar(df_battles_count['hero_name'], df_battles_count['battle_count'], color='blue')\n",
        "plt.title('Number of Battles per Superhero')\n",
        "plt.xlabel('Superhero')\n",
        "plt.ylabel('Battle Count')\n",
        "plt.xticks(rotation=45)\n",
        "plt.show()"
      ],
      "metadata": {
        "colab": {
          "base_uri": "https://localhost:8080/",
          "height": 545
        },
        "id": "lgD3JH8J3T2i",
        "outputId": "945a5910-0cdd-4beb-91c4-a0ef3c1bdec2"
      },
      "id": "lgD3JH8J3T2i",
      "execution_count": 13,
      "outputs": [
        {
          "output_type": "display_data",
          "data": {
            "text/plain": [
              "<Figure size 640x480 with 1 Axes>"
            ],
            "image/png": "[encoded data removed]"
          },
          "metadata": {}
        }
      ]
    },
    {
      "cell_type": "markdown",
      "id": "61477c9b",
      "metadata": {
        "id": "61477c9b"
      },
      "source": [
        "## Grading Criteria (Total: 25 Points)\n",
        "\n",
        "| Section                 | Points |\n",
        "|-------------------------|--------|\n",
        "| Database Setup          | 5      |\n",
        "| Data Importing         | 10     |\n",
        "| Querying the Data      | 10     |\n",
        "| Extra Feature          | 5      |\n",
        "| Bonus Challenge (Optional) | +5  |"
      ]
    },
    {
      "cell_type": "markdown",
      "id": "92bf6839",
      "metadata": {
        "id": "92bf6839"
      },
      "source": [
        "### Final Notes:\n",
        "- Be **creative** when designing superheroes and villains.\n",
        "- **Comment your code** to explain its functionality.\n",
        "- **Have fun** building your superhero universe!"
      ]
    }
  ],
  "metadata": {
    "colab": {
      "provenance": [],
      "include_colab_link": true
    },
    "language_info": {
      "name": "python"
    },
    "kernelspec": {
      "name": "python3",
      "display_name": "Python 3"
    }
  },
  "nbformat": 4,
  "nbformat_minor": 5
}