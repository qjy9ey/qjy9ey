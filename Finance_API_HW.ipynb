{
  "nbformat": 4,
  "nbformat_minor": 0,
  "metadata": {
    "colab": {
      "provenance": [],
      "authorship_tag": "ABX9TyN1jCjqTUZeTVzCgp4pHgFv",
      "include_colab_link": true
    },
    "kernelspec": {
      "name": "python3",
      "display_name": "Python 3"
    },
    "language_info": {
      "name": "python"
    }
  },
  "cells": [
    {
      "cell_type": "markdown",
      "metadata": {
        "id": "view-in-github",
        "colab_type": "text"
      },
      "source": [
        "<a href=\"https://colab.research.google.com/github/qjy9ey/qjy9ey/blob/main/Finance_API_HW.ipynb\" target=\"_parent\"><img src=\"https://colab.research.google.com/assets/colab-badge.svg\" alt=\"Open In Colab\"/></a>"
      ]
    },
    {
      "cell_type": "code",
      "execution_count": 2,
      "metadata": {
        "id": "oVtvvl7m6UA0"
      },
      "outputs": [],
      "source": [
        "import json\n",
        "import pandas as pd\n",
        "import requests"
      ]
    },
    {
      "cell_type": "code",
      "source": [
        "# Task 1: Fetch Basic Stock Data\n",
        "stocks = input(\"Enter at least two stock symbols separated by commas: \")\n",
        "querystring = {\"symbols\": stocks}\n",
        "url = \"https://yfapi.net/v6/finance/quote\"\n",
        "apikey = \"\" # Insert API key here.\n",
        "headers = {'x-api-key': apikey}\n",
        "response = requests.get(url, headers = headers, params = querystring)\n",
        "data = response.json()['quoteResponse']['result']\n",
        "\n",
        "for stock in data:\n",
        "  print(f\"Stock Ticker: {stock['symbol']}, Company: {stock.get('longName', 'N/A')}, Current Market Price: ${stock.get('regularMarketPrice', 'N/A')}\")"
      ],
      "metadata": {
        "colab": {
          "base_uri": "https://localhost:8080/"
        },
        "id": "za1Kq9f5lTXN",
        "outputId": "abd0865e-a81e-4455-c5a0-9d15819215bc"
      },
      "execution_count": 17,
      "outputs": [
        {
          "output_type": "stream",
          "name": "stdout",
          "text": [
            "Enter at least two stock symbols separated by commas: AAPL,MSFT\n",
            "Stock Ticker: AAPL, Company: Apple Inc., Current Market Price: $240.36\n",
            "Stock Ticker: MSFT, Company: Microsoft Corporation, Current Market Price: $399.73\n"
          ]
        }
      ]
    },
    {
      "cell_type": "code",
      "source": [
        "# Fetch Additional Data Using Modules\n",
        "stock = input(\"Enter stock symbol: \")\n",
        "module = input(\"Enter module (summaryDetail, financialData): \")\n",
        "if module not in [\"summaryDetail\", \"financialData\"]:\n",
        "    module = \"summaryDetail\"\n",
        "\n",
        "url = f\"https://yfapi.net/v11/finance/quoteSummary/{stock}\"\n",
        "apikey = \"\" # Insert API key here.\n",
        "headers = {'x-api-key': apikey}\n",
        "querystring = {\"modules\": module}\n",
        "\n",
        "response = requests.get(url, headers=headers, params=querystring)\n",
        "data = response.json()\n",
        "\n",
        "result = data.get('quoteSummary', {}).get('result', [{}])[0]\n",
        "\n",
        "if module == \"summaryDetail\":\n",
        "    high_52 = result.get('summaryDetail', {}).get('fiftyTwoWeekHigh', {}).get('raw', \"N/A\")\n",
        "    low_52 = result.get('summaryDetail', {}).get('fiftyTwoWeekLow', {}).get('raw', \"N/A\")\n",
        "    roa = \"N/A\"  # ROA is not available in summaryDetail.\n",
        "\n",
        "elif module == \"financialData\":\n",
        "    high_52 = \"N/A\"  # 52-week data is not available in financialData.\n",
        "    low_52 = \"N/A\"\n",
        "    roa = result.get('financialData', {}).get('returnOnAssets', {}).get('raw', \"N/A\")\n",
        "\n",
        "df = pd.DataFrame({\"52 Week High\": [high_52], \"52 Week Low\": [low_52], \"ROA\": [roa]})\n",
        "print(df.to_string(index=False))"
      ],
      "metadata": {
        "colab": {
          "base_uri": "https://localhost:8080/"
        },
        "id": "koyH9P2D-d_D",
        "outputId": "8ff48157-f64c-4310-8af1-d5b9e0f0848f"
      },
      "execution_count": 9,
      "outputs": [
        {
          "output_type": "stream",
          "name": "stdout",
          "text": [
            "Enter stock symbol: AAPL\n",
            "Enter module (summaryDetail, financialData): summaryDetail\n",
            " 52 Week High  52 Week Low ROA\n",
            "        260.1       164.08 N/A\n"
          ]
        }
      ]
    },
    {
      "cell_type": "code",
      "source": [
        "# Task 2.2: Fetch Additional Data Using Modules\n",
        "url = \"https://yfapi.net/v1/finance/trending/US\"\n",
        "api_key = \"\"\n",
        "headers = {\n",
        "    'x-api-key': apikey\n",
        "}\n",
        "\n",
        "response = requests.get(url, headers=headers)\n",
        "data = response.json()\n",
        "\n",
        "trending_tickers = [item['symbol'] for item in data['finance']['result'][0]['quotes']]\n",
        "\n",
        "querystring = {\"symbols\": \",\".join(trending_tickers)}\n",
        "\n",
        "quote_url = \"https://yfapi.net/v6/finance/quote\"\n",
        "\n",
        "response = requests.get(quote_url, headers=headers, params=querystring)\n",
        "quote_data = response.json()\n",
        "\n",
        "df = pd.DataFrame(quote_data['quoteResponse']['result'])\n",
        "\n",
        "df = df[['symbol', 'shortName', 'regularMarketPrice', 'fiftyTwoWeekHigh', 'fiftyTwoWeekLow']]\n",
        "df.columns = ['Ticker', 'Name', 'Current Price', '52-Week High', '52-Week Low']\n",
        "\n",
        "print(df)"
      ],
      "metadata": {
        "colab": {
          "base_uri": "https://localhost:8080/"
        },
        "id": "8KqkCM79-iir",
        "outputId": "98c8b1d7-ca86-4a05-edb2-f02fde2ae71b"
      },
      "execution_count": 23,
      "outputs": [
        {
          "output_type": "stream",
          "name": "stdout",
          "text": [
            "   Ticker                             Name  Current Price  52-Week High  \\\n",
            "0    NVDA               NVIDIA Corporation         131.28       153.130   \n",
            "1     CRM                 Salesforce, Inc.         307.33       369.000   \n",
            "2    SNOW                   Snowflake Inc.         166.19       194.400   \n",
            "3    IONQ                       IonQ, Inc.          29.93        54.740   \n",
            "4    BYND                Beyond Meat, Inc.           3.56        11.700   \n",
            "5     NIO                         NIO Inc.           4.72         7.710   \n",
            "6    MRNA                    Moderna, Inc.          33.58       170.470   \n",
            "7    MARA              MARA Holdings, Inc.          12.45        30.710   \n",
            "8    TDOC             Teladoc Health, Inc.          10.99        15.950   \n",
            "9     APP             Applovin Corporation         331.00       525.150   \n",
            "10   NTNX                    Nutanix, Inc.          69.35        75.800   \n",
            "11     AI                      C3.ai, Inc.          26.44        45.080   \n",
            "12    PBR  Petroleo Brasileiro S.A.- Petro          14.32        17.440   \n",
            "13   EBAY                        eBay Inc.          69.14        71.610   \n",
            "14   ROOT                       Root, Inc.          98.71       141.227   \n",
            "15   MULN          Mullen Automotive, Inc.           4.04     47100.000   \n",
            "16    AAP          Advance Auto Parts Inc.          37.70        88.560   \n",
            "17   PSTG               Pure Storage, Inc.          62.44        73.670   \n",
            "18   OTLY                   Oatly Group AB           8.08        26.800   \n",
            "19   SNPS                   Synopsys, Inc.         470.46       624.800   \n",
            "\n",
            "    52-Week Low  \n",
            "0        75.606  \n",
            "1       212.000  \n",
            "2       107.130  \n",
            "3         6.220  \n",
            "4         3.300  \n",
            "5         3.610  \n",
            "6        29.250  \n",
            "7        12.050  \n",
            "8         6.760  \n",
            "9        57.400  \n",
            "10       43.350  \n",
            "11       18.850  \n",
            "12       12.550  \n",
            "13       46.980  \n",
            "14       27.240  \n",
            "15        2.290  \n",
            "16       35.590  \n",
            "17       44.760  \n",
            "18        6.000  \n",
            "19      457.000  \n"
          ]
        }
      ]
    },
    {
      "cell_type": "code",
      "source": [
        "# Bonus Challenge: Elon’s Plane Location\n",
        "api_key = \"e3c212dc785ba9b1b621368f1fc21e5e\"\n",
        "planes = [\"N628TS\"]\n",
        "\n",
        "for plane in planes:\n",
        "    r = requests.get(f\"http://api.aviationstack.com/v1/flights?access_key={api_key}&reg_number={plane}\")\n",
        "    d = r.json().get(\"data\", [{}])[0]  # Get first (most recent) flight.\n",
        "\n",
        "    departure = d.get(\"departure\", {}).get(\"airport\", \"No departure data\")\n",
        "    arrival = d.get(\"arrival\", {}).get(\"airport\", \"No arrival data\")\n",
        "\n",
        "    print(f\"{plane}: {departure} → {arrival}\")"
      ],
      "metadata": {
        "colab": {
          "base_uri": "https://localhost:8080/"
        },
        "id": "CWL3RCKd7sQ2",
        "outputId": "53786fc6-d4f4-4a5d-fe99-55852362527f"
      },
      "execution_count": 12,
      "outputs": [
        {
          "output_type": "stream",
          "name": "stdout",
          "text": [
            "N628TS: Jinjiang → Changzhou\n"
          ]
        }
      ]
    }
  ]
}